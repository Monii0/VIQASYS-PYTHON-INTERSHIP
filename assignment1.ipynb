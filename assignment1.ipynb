{
 "cells": [
  {
   "cell_type": "markdown",
   "metadata": {},
   "source": [
    "___\n",
    "\n",
    "<a href='https://viqasys.com/wp-content/uploads/2021/07/ns1.png'><img src='https://viqasys.com/wp-content/uploads/2021/07/ns1.png'/></a>\n",
    "___\n",
    "<center><em>Content Copyright VIQASYS INNOVATIONS PVT LTD.</em></center>\n",
    "\n",
    "# Assignment 1"
   ]
  },
  {
   "cell_type": "markdown",
   "metadata": {},
   "source": [
    "# Question 1\n",
    "\n",
    "In the below elements, identify which of them are values or expressions. Values can be integers or strings, while expressions will be mathematical operators or combinations thereof.\n",
    "'hello', \n",
    "-87., ), o, lu, alu, ssion)'(Value))str\" (Value)"
   ]
  },
  {
   "cell_type": "code",
   "execution_count": null,
   "metadata": {},
   "outputs": [],
   "source": [
    "hello' - Value (String)\n",
    "\n",
    "-87. - Value (Floating-point Number)\n",
    "\n",
    ") - Expression (Closing Parenthesis)\n",
    "\n",
    "o - Value (Variable or Identifier)\n",
    "\n",
    "lu - Value (Variable or Identifier)\n",
    "\n",
    "alu - Value (Variable or Identifier)\n",
    "\n",
    "ssion) - Value (String)\n",
    "\n",
    "' - Expression (Opening Quotation Mark)\n",
    "\n",
    "(Value) - Expression (Grouping)\n",
    "\n",
    "str - Value (Variable or Identifier)\n",
    "\n",
    "\" - Expression (Closing Quotation Mark)"
   ]
  },
  {
   "cell_type": "markdown",
   "metadata": {},
   "source": [
    "## Question 2\n",
    "\n",
    "Explain the difference between a string and a variable.\n"
   ]
  },
  {
   "cell_type": "code",
   "execution_count": null,
   "metadata": {},
   "outputs": [],
   "source": [
    "The main difference between a string and variable is variables are symbols that you can use to store data in a program.You can think of them as an empty box that you fill with some data or value.Strings are data,so we can use them to fill up a variable."
   ]
  },
  {
   "cell_type": "markdown",
   "metadata": {},
   "source": [
    "## Question 3\n",
    "Describe three different data types commonly used in programming"
   ]
  },
  {
   "cell_type": "code",
   "execution_count": null,
   "metadata": {},
   "outputs": [],
   "source": [
    "Integers – This value is represented by int class. It contains positive or negative whole numbers (without fractions or decimals). In Python, there is no limit to how long an integer value can be.\n",
    "Float – This value is represented by the float class. It is a real number with a floating-point representation. It is specified by a decimal point. Optionally, the character e or E followed by a positive or negative integer may be appended to specify scientific notation.\n",
    "String --  A string is a collection of one or more characters put in a single quote, double-quote, or triple-quote. "
   ]
  },
  {
   "cell_type": "markdown",
   "metadata": {},
   "source": [
    "## Question 4\n",
    "What is an expression made up of? What is the general purpose of expressions?\n"
   ]
  },
  {
   "cell_type": "code",
   "execution_count": null,
   "metadata": {},
   "outputs": [],
   "source": [
    "An expression is a combination of values, variables, operators, and calls to functions. Expressions need to be evaluated.\n",
    "The purpose of programming language is it represents a computation and can be as simple as a single variable or as complex as a mathematical equation."
   ]
  },
  {
   "cell_type": "markdown",
   "metadata": {},
   "source": [
    "## Question 5\n",
    "\n",
    "Explain the difference between an expression and a statement, using examples if necessary."
   ]
  },
  {
   "cell_type": "code",
   "execution_count": null,
   "metadata": {},
   "outputs": [],
   "source": [
    "Expressions can be assigned or used as operands, while statements can only be declared.\n",
    "\n",
    "Statements create side effects to be useful, while expressions are values or execute to values.\n",
    "\n",
    "Expressions are unique in meaning, while statements are two-sided in execution. For example, 1 has a certain value while go( ) may be executed or not.\n",
    "\n",
    "Statements are the whole structure, while expressions are the building blocks. For example, a line or a block of code is a statement."
   ]
  },
  {
   "cell_type": "markdown",
   "metadata": {},
   "source": [
    "## Question 6\n",
    "After running the following code, what does the variable \"bacon\" contain?\n",
    "\n",
    "bacon = 22 <br>\n",
    "\n",
    "bacon + 1"
   ]
  },
  {
   "cell_type": "code",
   "execution_count": null,
   "metadata": {},
   "outputs": [],
   "source": [
    "23"
   ]
  },
  {
   "cell_type": "markdown",
   "metadata": {},
   "source": [
    "## Question 7\n",
    "Determine the values of the following two terms:<br>\n",
    "'spam' + 'spamspam'<br>\n",
    "'spam' * 3\n",
    "\n"
   ]
  },
  {
   "cell_type": "code",
   "execution_count": null,
   "metadata": {},
   "outputs": [],
   "source": [
    "'spamspamspam'"
   ]
  },
  {
   "cell_type": "markdown",
   "metadata": {},
   "source": [
    "## Question 8\n",
    "\n",
    "Why is \"eggs\" a valid variable name while \"100\" is invalid?"
   ]
  },
  {
   "cell_type": "code",
   "execution_count": null,
   "metadata": {},
   "outputs": [],
   "source": [
    "It’s because variable name can not be integer. It can not start with integer.\n",
    "\n"
   ]
  },
  {
   "cell_type": "markdown",
   "metadata": {},
   "source": [
    "## Question 9\n",
    "\n",
    "List three functions that can be used to obtain the integer, floating-point number, or string version of a value."
   ]
  },
  {
   "cell_type": "code",
   "execution_count": null,
   "metadata": {},
   "outputs": [],
   "source": [
    "1.int() = it will convert any digit value into integer.\n",
    "\n",
    "Eg.  int('25'), int(15.5), int(True).\n",
    "\n",
    "2.float() = it will convert any digit value into floating point number which is having decimal points.\n",
    "\n",
    "Eg.  float('25'), float(15), Float(True).\n",
    "\n",
    "3.str() = it will convert value into string format.\n",
    "\n",
    "Eg.  str(25), str(15.5), str(True)."
   ]
  },
  {
   "cell_type": "markdown",
   "metadata": {},
   "source": [
    "## Question 10 \n",
    "Explain why the following expression causes an error and suggest how to fix it:<br>\n",
    "'I have eaten ' + 99 + ' burritos.'\n",
    "\n"
   ]
  },
  {
   "cell_type": "code",
   "execution_count": null,
   "metadata": {},
   "outputs": [],
   "source": [
    "The above expression will cause an error because in the expression two values are strings and one is integer so integer can’t be concatenated with strings. The expression will throw an error like Unsupported Operand Type.\n",
    "\n",
    "We can fix this issue by below expression\n",
    "\n",
    "'I have eaten' + ' 99 ' + ' burritos.'"
   ]
  },
  {
   "cell_type": "markdown",
   "metadata": {},
   "source": [
    "## Question 11\n",
    "Write a Python program to calculate the sum of two numbers and print the result.\n",
    "gative, or zero."
   ]
  },
  {
   "cell_type": "code",
   "execution_count": null,
   "metadata": {},
   "outputs": [],
   "source": []
  },
  {
   "cell_type": "markdown",
   "metadata": {},
   "source": [
    "## Question 12\n",
    "Create a Python program that takes the user's name as input and prints a greeting message.\n",
    "\n"
   ]
  },
  {
   "cell_type": "code",
   "execution_count": null,
   "metadata": {},
   "outputs": [],
   "source": [
    "name = input(\"Enter your name\")\n",
    "greet=\"welcome to the program\"\n",
    "print(\"Hello\" ,name +\" \" + greet)"
   ]
  },
  {
   "cell_type": "markdown",
   "metadata": {},
   "source": [
    "## Question 13\n",
    "Write a Python program to calculate the area of a rectangle given its length and width. (Assume length and width are provided as inputs.)\n",
    "\n"
   ]
  },
  {
   "cell_type": "code",
   "execution_count": null,
   "metadata": {},
   "outputs": [],
   "source": [
    "length=float(input(\"Enter the length\"))\n",
    "width =float(input(\"Enter the width\"))\n",
    "area_rectangle =length*width\n",
    "print(\"Area of rectangle is :\",area_rectangle)"
   ]
  },
  {
   "cell_type": "markdown",
   "metadata": {},
   "source": [
    "## Question 14\n",
    "Create a Python program that asks the user for their age and prints out a message saying whether they are a child, teenager, or adult based on their age.\n",
    "\n"
   ]
  },
  {
   "cell_type": "code",
   "execution_count": null,
   "metadata": {},
   "outputs": [],
   "source": [
    "age =int(input(\"Enter your age\"))\n",
    "if age<13 :\n",
    "     print(\" you are a child\")\n",
    "elif age<20 :\n",
    "     print(\"you are teenager\")\n",
    "else :\n",
    "     print(\"you are adult\")          \n",
    "     # if age =20 the it print \"you are adult\""
   ]
  },
  {
   "cell_type": "markdown",
   "metadata": {},
   "source": [
    "## Question 15\n",
    "Write a Python program to convert temperature from Celsius to Fahrenheit. (Assume Celsius temperature is provided as input.)\n",
    "\n"
   ]
  },
  {
   "cell_type": "code",
   "execution_count": null,
   "metadata": {},
   "outputs": [],
   "source": [
    "celcius = float(input(\"Enter temperature in celcius\"))\n",
    "fahrenheit =   (1.8*celcius) + 32\n",
    "print(\"Temperature in fahrenheit is :\", fahrenheit)"
   ]
  },
  {
   "cell_type": "markdown",
   "metadata": {},
   "source": [
    "## Question 16\n",
    "Create a Python program that takes the radius of a circle as input and calculates its area. (Assume the value of pi is 3.14.)\n",
    "\n"
   ]
  },
  {
   "cell_type": "code",
   "execution_count": null,
   "metadata": {},
   "outputs": [],
   "source": [
    "rad = int(input(\" Enter radius\"))\n",
    "area = 3.14*rad*rad\n",
    "print(\"Area of cicle is :\", area)"
   ]
  },
  {
   "cell_type": "markdown",
   "metadata": {},
   "source": [
    "## Question 17\n",
    "Write a Python program to find the maximum of two numbers entered by the user.\n",
    "\n"
   ]
  },
  {
   "cell_type": "code",
   "execution_count": null,
   "metadata": {},
   "outputs": [],
   "source": [
    "n1 = int(input(\"Enter the first number\"))\n",
    "n2 = int(input(\"Enter second number\"))\n",
    "if n1 > n2 :\n",
    "    print( n1 ,\"is max number\")   \n",
    "else:\n",
    "    print(n2 , \" is max number\")"
   ]
  },
  {
   "cell_type": "markdown",
   "metadata": {},
   "source": [
    "## Question 18\n",
    "Create a Python program that asks the user to enter two numbers and prints out their product.\n",
    "\n"
   ]
  },
  {
   "cell_type": "code",
   "execution_count": null,
   "metadata": {},
   "outputs": [],
   "source": [
    "num1= int(input(\"Enter first number\"))\n",
    "num2= int(input(\" Enter second number\"))\n",
    "product = num1*num2\n",
    "print(\"product of two number is : \", product)"
   ]
  },
  {
   "cell_type": "markdown",
   "metadata": {},
   "source": [
    "## Question 19\n",
    "Write a Python program that prompts the user to enter a number and then prints whether the number is positive, negative, or zero."
   ]
  },
  {
   "cell_type": "code",
   "execution_count": null,
   "metadata": {},
   "outputs": [],
   "source": [
    "num= int(input(\"Enter first number\"))\n",
    "if num <0 :\n",
    "    print(\" Number is negative\")\n",
    "elif num >0:\n",
    "    print( \" Number is positive\")\n",
    "else :\n",
    "    print(\" Number is zero\")"
   ]
  }
 ],
 "metadata": {
  "anaconda-cloud": {},
  "kernelspec": {
   "display_name": "Python 3 (ipykernel)",
   "language": "python",
   "name": "python3"
  },
  "language_info": {
   "codemirror_mode": {
    "name": "ipython",
    "version": 3
   },
   "file_extension": ".py",
   "mimetype": "text/x-python",
   "name": "python",
   "nbconvert_exporter": "python",
   "pygments_lexer": "ipython3",
   "version": "3.11.5"
  }
 },
 "nbformat": 4,
 "nbformat_minor": 4
}
